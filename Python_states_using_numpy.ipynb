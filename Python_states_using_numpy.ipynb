{
 "cells": [
  {
   "cell_type": "code",
   "execution_count": 6,
   "id": "62e14741",
   "metadata": {},
   "outputs": [],
   "source": [
    "import numpy as np\n",
    "\n",
    "from statistics import mode\n",
    "import seaborn as sns\n",
    "import matplotlib.pyplot as plt"
   ]
  },
  {
   "cell_type": "code",
   "execution_count": 4,
   "id": "09165d5b",
   "metadata": {},
   "outputs": [],
   "source": [
    "population_data= np.random.randint(10,20,50) #range 10-20 and generate 50 random numbers"
   ]
  },
  {
   "cell_type": "code",
   "execution_count": 5,
   "id": "3cfc7c9d",
   "metadata": {},
   "outputs": [
    {
     "data": {
      "text/plain": [
       "array([16, 17, 16, 12, 16, 14, 12, 10, 15, 16, 18, 15, 14, 19, 17, 14, 16,\n",
       "       14, 12, 16, 18, 16, 18, 12, 11, 15, 14, 16, 11, 13, 17, 15, 10, 14,\n",
       "       11, 11, 19, 17, 17, 18, 10, 10, 13, 19, 19, 18, 18, 14, 13, 13])"
      ]
     },
     "execution_count": 5,
     "metadata": {},
     "output_type": "execute_result"
    }
   ],
   "source": [
    "population_data"
   ]
  },
  {
   "cell_type": "code",
   "execution_count": 6,
   "id": "7f1cd2af",
   "metadata": {},
   "outputs": [
    {
     "data": {
      "text/plain": [
       "14.78"
      ]
     },
     "execution_count": 6,
     "metadata": {},
     "output_type": "execute_result"
    }
   ],
   "source": [
    "mean= np.mean(population_data)\n",
    "mean"
   ]
  },
  {
   "cell_type": "code",
   "execution_count": 7,
   "id": "1f9fa9cf",
   "metadata": {},
   "outputs": [
    {
     "data": {
      "text/plain": [
       "15.0"
      ]
     },
     "execution_count": 7,
     "metadata": {},
     "output_type": "execute_result"
    }
   ],
   "source": [
    "median= np.median(population_data)\n",
    "median"
   ]
  },
  {
   "cell_type": "code",
   "execution_count": 8,
   "id": "b3fe96fb",
   "metadata": {},
   "outputs": [
    {
     "data": {
      "text/plain": [
       "16"
      ]
     },
     "execution_count": 8,
     "metadata": {},
     "output_type": "execute_result"
    }
   ],
   "source": [
    "mode_= mode(population_data) #mode is not available in numpy, so imprting from statistics\n",
    "mode_ "
   ]
  },
  {
   "cell_type": "code",
   "execution_count": 19,
   "id": "5df06f23",
   "metadata": {},
   "outputs": [
    {
     "name": "stdout",
     "output_type": "stream",
     "text": [
      "Mean of population data: 14.78\n",
      "Median of population data: 15.0\n",
      "Mode of population data: 16\n"
     ]
    }
   ],
   "source": [
    "print(f\"Mean of population data: {np.mean(population_data)}\")\n",
    "print(f\"Median of population data: {np.median(population_data)}\")\n",
    "print(f\"Mode of population data: {mode(population_data)}\")"
   ]
  },
  {
   "cell_type": "code",
   "execution_count": 20,
   "id": "a54c26b8",
   "metadata": {},
   "outputs": [
    {
     "data": {
      "text/plain": [
       "17"
      ]
     },
     "execution_count": 20,
     "metadata": {},
     "output_type": "execute_result"
    }
   ],
   "source": [
    "#generate the sample\n",
    "\n",
    "sample= np.random.choice(population_data)\n",
    "sample"
   ]
  },
  {
   "cell_type": "code",
   "execution_count": 21,
   "id": "e891cacc",
   "metadata": {},
   "outputs": [
    {
     "data": {
      "text/plain": [
       "array([19, 17, 14, 15, 12, 14, 10, 14, 18, 15, 16, 18, 11, 16, 18, 11, 16,\n",
       "       16, 15, 16])"
      ]
     },
     "execution_count": 21,
     "metadata": {},
     "output_type": "execute_result"
    }
   ],
   "source": [
    "#generate 20 random sample from population\n",
    "sample= np.random.choice(population_data,20)\n",
    "sample"
   ]
  },
  {
   "cell_type": "code",
   "execution_count": 22,
   "id": "b72679ae",
   "metadata": {},
   "outputs": [
    {
     "name": "stdout",
     "output_type": "stream",
     "text": [
      "Mean of Sample data: 15.05\n",
      "Median of Sample data: 15.5\n",
      "Mode of Sample data: 16\n"
     ]
    }
   ],
   "source": [
    "print(f\"Mean of Sample data: {np.mean(sample)}\")\n",
    "print(f\"Median of Sample data: {np.median(sample)}\")\n",
    "print(f\"Mode of Sample data: {mode(sample)}\")"
   ]
  },
  {
   "cell_type": "code",
   "execution_count": 23,
   "id": "928bf69a",
   "metadata": {},
   "outputs": [
    {
     "name": "stdout",
     "output_type": "stream",
     "text": [
      "[11 12 14 12 19 18 18 13 16 19 18 14 11 16 18 16 10 19 14 19]\n",
      "[13 14 18 16 16 10 18 14 18 15 18 17 11 10 16 13 13 16 17 17]\n",
      "[10 13 14 17 10 18 17 12 13 12 17 15 11 16 18 11 19 11 12 11]\n",
      "[17 18 16 17 10 12 13 18 12 18 13 18 13 12 13 14 14 16 14 17]\n"
     ]
    }
   ],
   "source": [
    "sample1= np.random.choice(population_data,20)\n",
    "sample2= np.random.choice(population_data,20)\n",
    "sample3= np.random.choice(population_data,20)\n",
    "sample4= np.random.choice(population_data,20)\n",
    "print(sample1)\n",
    "print(sample2)\n",
    "print(sample3)\n",
    "print(sample4)"
   ]
  },
  {
   "cell_type": "code",
   "execution_count": 25,
   "id": "62e1565a",
   "metadata": {},
   "outputs": [
    {
     "name": "stdout",
     "output_type": "stream",
     "text": [
      "[15.35, 15.0, 13.85, 14.75]\n"
     ]
    }
   ],
   "source": [
    "lst_of_mean_of_sample= []\n",
    "all_sample=[sample1,sample2,sample3,sample4]\n",
    "\n",
    "for i in all_sample:\n",
    "    mean=np.mean(i)\n",
    "    lst_of_mean_of_sample.append(mean)\n",
    "print(lst_of_mean_of_sample)"
   ]
  },
  {
   "cell_type": "markdown",
   "id": "3f907765",
   "metadata": {},
   "source": [
    "# Central Limit thoerm \n"
   ]
  },
  {
   "cell_type": "markdown",
   "id": "11533d59",
   "metadata": {},
   "source": [
    "# \n",
    "The Central Limit Theorem (CLT) is a fundamental concept in probability theory and statistics. It states that the distribution of the sample means (or other sample statistics) of a sufficiently large number of independent, identically distributed random variables will be approximately normally distributed, regardless of the underlying distribution of the population from which the samples are drawn."
   ]
  },
  {
   "cell_type": "code",
   "execution_count": 72,
   "id": "d4ae601f",
   "metadata": {},
   "outputs": [],
   "source": [
    "population= np.random.binomial(10,0.5,10000)"
   ]
  },
  {
   "cell_type": "code",
   "execution_count": 73,
   "id": "37657cde",
   "metadata": {},
   "outputs": [
    {
     "data": {
      "text/plain": [
       "array([6, 6, 6, ..., 2, 5, 2])"
      ]
     },
     "execution_count": 73,
     "metadata": {},
     "output_type": "execute_result"
    }
   ],
   "source": [
    "population"
   ]
  },
  {
   "cell_type": "code",
   "execution_count": 87,
   "id": "e4b5b0e7",
   "metadata": {},
   "outputs": [
    {
     "data": {
      "text/plain": [
       "(1000,)"
      ]
     },
     "execution_count": 87,
     "metadata": {},
     "output_type": "execute_result"
    }
   ],
   "source": [
    "population.shape"
   ]
  },
  {
   "cell_type": "code",
   "execution_count": 74,
   "id": "737f168d",
   "metadata": {},
   "outputs": [
    {
     "data": {
      "text/plain": [
       "10000"
      ]
     },
     "execution_count": 74,
     "metadata": {},
     "output_type": "execute_result"
    }
   ],
   "source": [
    "len(population)"
   ]
  },
  {
   "cell_type": "code",
   "execution_count": 75,
   "id": "cffcaa81",
   "metadata": {},
   "outputs": [
    {
     "name": "stderr",
     "output_type": "stream",
     "text": [
      "/Users/yogendrasingh/opt/anaconda3/lib/python3.9/site-packages/seaborn/distributions.py:2619: FutureWarning: `distplot` is a deprecated function and will be removed in a future version. Please adapt your code to use either `displot` (a figure-level function with similar flexibility) or `histplot` (an axes-level function for histograms).\n",
      "  warnings.warn(msg, FutureWarning)\n"
     ]
    },
    {
     "data": {
      "image/png": "[encoded data removed]",
      "text/plain": [
       "<Figure size 432x288 with 1 Axes>"
      ]
     },
     "metadata": {
      "needs_background": "light"
     },
     "output_type": "display_data"
    }
   ],
   "source": [
    "#ploting population data\n",
    "sns.distplot(population)\n",
    "plt.show()"
   ]
  },
  {
   "cell_type": "code",
   "execution_count": 76,
   "id": "4d3f1eb2",
   "metadata": {},
   "outputs": [
    {
     "data": {
      "text/plain": [
       "3000"
      ]
     },
     "execution_count": 76,
     "metadata": {},
     "output_type": "execute_result"
    }
   ],
   "source": [
    "size= int(len(population)*0.30)\n",
    "size"
   ]
  },
  {
   "cell_type": "code",
   "execution_count": 77,
   "id": "f3ab9f17",
   "metadata": {},
   "outputs": [
    {
     "name": "stderr",
     "output_type": "stream",
     "text": [
      "/Users/yogendrasingh/opt/anaconda3/lib/python3.9/site-packages/seaborn/distributions.py:2619: FutureWarning: `distplot` is a deprecated function and will be removed in a future version. Please adapt your code to use either `displot` (a figure-level function with similar flexibility) or `histplot` (an axes-level function for histograms).\n",
      "  warnings.warn(msg, FutureWarning)\n"
     ]
    },
    {
     "data": {
      "image/png": "[encoded data removed]",
      "text/plain": [
       "<Figure size 432x288 with 1 Axes>"
      ]
     },
     "metadata": {
      "needs_background": "light"
     },
     "output_type": "display_data"
    }
   ],
   "source": [
    "def ctl(limit):\n",
    "    lst_mean=[]\n",
    "    for i in range(1,limit):\n",
    "        sample= np.random.choice(population,size=size)\n",
    "        mean= np.mean(sample)\n",
    "        lst_mean.append(mean)\n",
    "    sns.distplot(lst_mean)\n",
    "    plt.show()\n",
    "    \n",
    "ctl(limit=1000)    "
   ]
  },
  {
   "cell_type": "code",
   "execution_count": 78,
   "id": "22dc810b",
   "metadata": {},
   "outputs": [],
   "source": [
    "#hence CLT is prooved."
   ]
  },
  {
   "cell_type": "code",
   "execution_count": 86,
   "id": "f59b8cba",
   "metadata": {},
   "outputs": [
    {
     "data": {
      "text/plain": [
       "(1000,)"
      ]
     },
     "execution_count": 86,
     "metadata": {},
     "output_type": "execute_result"
    }
   ],
   "source": [
    "##CLT with poisson distribution\n",
    "population= np.random.poisson(5,1000)\n",
    "population.shape"
   ]
  },
  {
   "cell_type": "code",
   "execution_count": 84,
   "id": "e245c202",
   "metadata": {},
   "outputs": [
    {
     "data": {
      "text/plain": [
       "30"
      ]
     },
     "execution_count": 84,
     "metadata": {},
     "output_type": "execute_result"
    }
   ],
   "source": [
    "population= np.random.poisson(lam=(100., 500.), size=(100, 2))\n",
    "size= int(len(population)*0.30)\n",
    "size"
   ]
  },
  {
   "cell_type": "code",
   "execution_count": 96,
   "id": "e14dc71e",
   "metadata": {},
   "outputs": [
    {
     "name": "stderr",
     "output_type": "stream",
     "text": [
      "/Users/yogendrasingh/opt/anaconda3/lib/python3.9/site-packages/seaborn/distributions.py:2619: FutureWarning: `distplot` is a deprecated function and will be removed in a future version. Please adapt your code to use either `displot` (a figure-level function with similar flexibility) or `histplot` (an axes-level function for histograms).\n",
      "  warnings.warn(msg, FutureWarning)\n"
     ]
    },
    {
     "data": {
      "image/png": "[encoded data removed]",
      "text/plain": [
       "<Figure size 432x288 with 1 Axes>"
      ]
     },
     "metadata": {
      "needs_background": "light"
     },
     "output_type": "display_data"
    }
   ],
   "source": [
    "def ctl(limit):\n",
    "    lst_mean=[]\n",
    "    for i in range(1,limit):\n",
    "        sample= np.random.choice(population,size=size)\n",
    "        mean= np.mean(sample)\n",
    "        lst_mean.append(mean)\n",
    "    sns.distplot(lst_mean)\n",
    "    plt.show()\n",
    "    \n",
    "ctl(limit=1000) "
   ]
  },
  {
   "cell_type": "code",
   "execution_count": 97,
   "id": "1760f905",
   "metadata": {},
   "outputs": [],
   "source": [
    "#CLT prooved"
   ]
  },
  {
   "cell_type": "markdown",
   "id": "1efdaf84",
   "metadata": {},
   "source": [
    "# confidential interval and margin error"
   ]
  },
  {
   "cell_type": "code",
   "execution_count": 1,
   "id": "f280cf82",
   "metadata": {},
   "outputs": [],
   "source": [
    "import scipy.stats as stats"
   ]
  },
  {
   "cell_type": "code",
   "execution_count": 3,
   "id": "2b7dbadd",
   "metadata": {},
   "outputs": [
    {
     "data": {
      "text/plain": [
       "1.6448536269514722"
      ]
     },
     "execution_count": 3,
     "metadata": {},
     "output_type": "execute_result"
    }
   ],
   "source": [
    "stats.norm.ppf(q=0.95)"
   ]
  },
  {
   "cell_type": "code",
   "execution_count": 4,
   "id": "c7a0f6f1",
   "metadata": {},
   "outputs": [
    {
     "data": {
      "text/plain": [
       "1.8807936081512509"
      ]
     },
     "execution_count": 4,
     "metadata": {},
     "output_type": "execute_result"
    }
   ],
   "source": [
    "stats.norm.ppf(q=0.97)"
   ]
  },
  {
   "cell_type": "code",
   "execution_count": 5,
   "id": "ab8d540a",
   "metadata": {},
   "outputs": [
    {
     "data": {
      "text/plain": [
       "2.3263478740408408"
      ]
     },
     "execution_count": 5,
     "metadata": {},
     "output_type": "execute_result"
    }
   ],
   "source": [
    "stats.norm.ppf(q=0.99)"
   ]
  },
  {
   "cell_type": "code",
   "execution_count": null,
   "id": "c079a9ea",
   "metadata": {},
   "outputs": [],
   "source": []
  },
  {
   "cell_type": "code",
   "execution_count": 15,
   "id": "25034446",
   "metadata": {},
   "outputs": [],
   "source": [
    "data=np.random.randn(100)"
   ]
  },
  {
   "cell_type": "code",
   "execution_count": 16,
   "id": "ad4b8eed",
   "metadata": {},
   "outputs": [
    {
     "name": "stderr",
     "output_type": "stream",
     "text": [
      "/Users/yogendrasingh/opt/anaconda3/lib/python3.9/site-packages/seaborn/distributions.py:2619: FutureWarning: `distplot` is a deprecated function and will be removed in a future version. Please adapt your code to use either `displot` (a figure-level function with similar flexibility) or `histplot` (an axes-level function for histograms).\n",
      "  warnings.warn(msg, FutureWarning)\n"
     ]
    },
    {
     "data": {
      "text/plain": [
       "<AxesSubplot:ylabel='Density'>"
      ]
     },
     "execution_count": 16,
     "metadata": {},
     "output_type": "execute_result"
    },
    {
     "data": {
      "image/png": "[encoded data removed]",
      "text/plain": [
       "<Figure size 432x288 with 1 Axes>"
      ]
     },
     "metadata": {
      "needs_background": "light"
     },
     "output_type": "display_data"
    }
   ],
   "source": [
    "sns.distplot(data)"
   ]
  },
  {
   "cell_type": "code",
   "execution_count": 17,
   "id": "fb71ac1c",
   "metadata": {},
   "outputs": [
    {
     "data": {
      "text/plain": [
       "-0.10292979880556848"
      ]
     },
     "execution_count": 17,
     "metadata": {},
     "output_type": "execute_result"
    }
   ],
   "source": [
    "np.mean(data)"
   ]
  },
  {
   "cell_type": "code",
   "execution_count": 14,
   "id": "b11ac6e5",
   "metadata": {},
   "outputs": [
    {
     "data": {
      "text/plain": [
       "0.9991786552980773"
      ]
     },
     "execution_count": 14,
     "metadata": {},
     "output_type": "execute_result"
    }
   ],
   "source": [
    "np.std(data)"
   ]
  },
  {
   "cell_type": "code",
   "execution_count": null,
   "id": "f9e1ad65",
   "metadata": {},
   "outputs": [],
   "source": []
  },
  {
   "cell_type": "code",
   "execution_count": null,
   "id": "254c423d",
   "metadata": {},
   "outputs": [],
   "source": []
  },
  {
   "cell_type": "code",
   "execution_count": null,
   "id": "db53ab81",
   "metadata": {},
   "outputs": [],
   "source": []
  },
  {
   "cell_type": "code",
   "execution_count": null,
   "id": "a0b804f0",
   "metadata": {},
   "outputs": [],
   "source": []
  },
  {
   "cell_type": "code",
   "execution_count": 18,
   "id": "68eb6af2",
   "metadata": {},
   "outputs": [],
   "source": [
    "## Part-2\n"
   ]
  },
  {
   "cell_type": "code",
   "execution_count": 25,
   "id": "c389fee9",
   "metadata": {},
   "outputs": [],
   "source": [
    "import pandas as pd\n",
    "import seaborn as sns"
   ]
  },
  {
   "cell_type": "code",
   "execution_count": 22,
   "id": "959d7236",
   "metadata": {},
   "outputs": [],
   "source": [
    "data= pd.read_csv(\"https://raw.githubusercontent.com/shrikant-temburwar/Wine-Quality-Dataset/master/winequality-red.csv\", sep=\";\")"
   ]
  },
  {
   "cell_type": "code",
   "execution_count": 23,
   "id": "d1ff5d56",
   "metadata": {},
   "outputs": [
    {
     "data": {
      "text/html": [
       "<div>\n",
       "<style scoped>\n",
       "    .dataframe tbody tr th:only-of-type {\n",
       "        vertical-align: middle;\n",
       "    }\n",
       "\n",
       "    .dataframe tbody tr th {\n",
       "        vertical-align: top;\n",
       "    }\n",
       "\n",
       "    .dataframe thead th {\n",
       "        text-align: right;\n",
       "    }\n",
       "</style>\n",
       "<table border=\"1\" class=\"dataframe\">\n",
       "  <thead>\n",
       "    <tr style=\"text-align: right;\">\n",
       "      <th></th>\n",
       "      <th>fixed acidity</th>\n",
       "      <th>volatile acidity</th>\n",
       "      <th>citric acid</th>\n",
       "      <th>residual sugar</th>\n",
       "      <th>chlorides</th>\n",
       "      <th>free sulfur dioxide</th>\n",
       "      <th>total sulfur dioxide</th>\n",
       "      <th>density</th>\n",
       "      <th>pH</th>\n",
       "      <th>sulphates</th>\n",
       "      <th>alcohol</th>\n",
       "      <th>quality</th>\n",
       "    </tr>\n",
       "  </thead>\n",
       "  <tbody>\n",
       "    <tr>\n",
       "      <th>0</th>\n",
       "      <td>7.4</td>\n",
       "      <td>0.70</td>\n",
       "      <td>0.00</td>\n",
       "      <td>1.9</td>\n",
       "      <td>0.076</td>\n",
       "      <td>11.0</td>\n",
       "      <td>34.0</td>\n",
       "      <td>0.9978</td>\n",
       "      <td>3.51</td>\n",
       "      <td>0.56</td>\n",
       "      <td>9.4</td>\n",
       "      <td>5</td>\n",
       "    </tr>\n",
       "    <tr>\n",
       "      <th>1</th>\n",
       "      <td>7.8</td>\n",
       "      <td>0.88</td>\n",
       "      <td>0.00</td>\n",
       "      <td>2.6</td>\n",
       "      <td>0.098</td>\n",
       "      <td>25.0</td>\n",
       "      <td>67.0</td>\n",
       "      <td>0.9968</td>\n",
       "      <td>3.20</td>\n",
       "      <td>0.68</td>\n",
       "      <td>9.8</td>\n",
       "      <td>5</td>\n",
       "    </tr>\n",
       "    <tr>\n",
       "      <th>2</th>\n",
       "      <td>7.8</td>\n",
       "      <td>0.76</td>\n",
       "      <td>0.04</td>\n",
       "      <td>2.3</td>\n",
       "      <td>0.092</td>\n",
       "      <td>15.0</td>\n",
       "      <td>54.0</td>\n",
       "      <td>0.9970</td>\n",
       "      <td>3.26</td>\n",
       "      <td>0.65</td>\n",
       "      <td>9.8</td>\n",
       "      <td>5</td>\n",
       "    </tr>\n",
       "    <tr>\n",
       "      <th>3</th>\n",
       "      <td>11.2</td>\n",
       "      <td>0.28</td>\n",
       "      <td>0.56</td>\n",
       "      <td>1.9</td>\n",
       "      <td>0.075</td>\n",
       "      <td>17.0</td>\n",
       "      <td>60.0</td>\n",
       "      <td>0.9980</td>\n",
       "      <td>3.16</td>\n",
       "      <td>0.58</td>\n",
       "      <td>9.8</td>\n",
       "      <td>6</td>\n",
       "    </tr>\n",
       "    <tr>\n",
       "      <th>4</th>\n",
       "      <td>7.4</td>\n",
       "      <td>0.70</td>\n",
       "      <td>0.00</td>\n",
       "      <td>1.9</td>\n",
       "      <td>0.076</td>\n",
       "      <td>11.0</td>\n",
       "      <td>34.0</td>\n",
       "      <td>0.9978</td>\n",
       "      <td>3.51</td>\n",
       "      <td>0.56</td>\n",
       "      <td>9.4</td>\n",
       "      <td>5</td>\n",
       "    </tr>\n",
       "  </tbody>\n",
       "</table>\n",
       "</div>"
      ],
      "text/plain": [
       "   fixed acidity  volatile acidity  citric acid  residual sugar  chlorides  \\\n",
       "0            7.4              0.70         0.00             1.9      0.076   \n",
       "1            7.8              0.88         0.00             2.6      0.098   \n",
       "2            7.8              0.76         0.04             2.3      0.092   \n",
       "3           11.2              0.28         0.56             1.9      0.075   \n",
       "4            7.4              0.70         0.00             1.9      0.076   \n",
       "\n",
       "   free sulfur dioxide  total sulfur dioxide  density    pH  sulphates  \\\n",
       "0                 11.0                  34.0   0.9978  3.51       0.56   \n",
       "1                 25.0                  67.0   0.9968  3.20       0.68   \n",
       "2                 15.0                  54.0   0.9970  3.26       0.65   \n",
       "3                 17.0                  60.0   0.9980  3.16       0.58   \n",
       "4                 11.0                  34.0   0.9978  3.51       0.56   \n",
       "\n",
       "   alcohol  quality  \n",
       "0      9.4        5  \n",
       "1      9.8        5  \n",
       "2      9.8        5  \n",
       "3      9.8        6  \n",
       "4      9.4        5  "
      ]
     },
     "execution_count": 23,
     "metadata": {},
     "output_type": "execute_result"
    }
   ],
   "source": [
    "data.head()"
   ]
  },
  {
   "cell_type": "code",
   "execution_count": 24,
   "id": "6f30272b",
   "metadata": {},
   "outputs": [
    {
     "data": {
      "text/plain": [
       "0       0.700\n",
       "1       0.880\n",
       "2       0.760\n",
       "3       0.280\n",
       "4       0.700\n",
       "        ...  \n",
       "1594    0.600\n",
       "1595    0.550\n",
       "1596    0.510\n",
       "1597    0.645\n",
       "1598    0.310\n",
       "Name: volatile acidity, Length: 1599, dtype: float64"
      ]
     },
     "execution_count": 24,
     "metadata": {},
     "output_type": "execute_result"
    }
   ],
   "source": [
    "data[\"volatile acidity\"]"
   ]
  },
  {
   "cell_type": "markdown",
   "id": "b4f1e5d8",
   "metadata": {},
   "source": [
    "Checking the normality of data wheather data is normally distributed or not"
   ]
  },
  {
   "cell_type": "code",
   "execution_count": 31,
   "id": "e7904f04",
   "metadata": {},
   "outputs": [
    {
     "name": "stderr",
     "output_type": "stream",
     "text": [
      "/Users/yogendrasingh/opt/anaconda3/lib/python3.9/site-packages/seaborn/distributions.py:2619: FutureWarning: `distplot` is a deprecated function and will be removed in a future version. Please adapt your code to use either `displot` (a figure-level function with similar flexibility) or `histplot` (an axes-level function for histograms).\n",
      "  warnings.warn(msg, FutureWarning)\n"
     ]
    },
    {
     "data": {
      "text/plain": [
       "<AxesSubplot:xlabel='volatile acidity', ylabel='Density'>"
      ]
     },
     "execution_count": 31,
     "metadata": {},
     "output_type": "execute_result"
    },
    {
     "data": {
      "image/png": "[encoded data removed]",
      "text/plain": [
       "<Figure size 432x288 with 1 Axes>"
      ]
     },
     "metadata": {
      "needs_background": "light"
     },
     "output_type": "display_data"
    }
   ],
   "source": [
    "\"\"\"checking the normality of data\"\"\"\n",
    "sns.distplot(data[\"volatile acidity\"]) ##this is not normaly distributed"
   ]
  },
  {
   "cell_type": "code",
   "execution_count": 28,
   "id": "2924795d",
   "metadata": {},
   "outputs": [
    {
     "name": "stderr",
     "output_type": "stream",
     "text": [
      "/Users/yogendrasingh/opt/anaconda3/lib/python3.9/site-packages/seaborn/distributions.py:2619: FutureWarning: `distplot` is a deprecated function and will be removed in a future version. Please adapt your code to use either `displot` (a figure-level function with similar flexibility) or `histplot` (an axes-level function for histograms).\n",
      "  warnings.warn(msg, FutureWarning)\n"
     ]
    },
    {
     "data": {
      "text/plain": [
       "<AxesSubplot:xlabel='citric acid', ylabel='Density'>"
      ]
     },
     "execution_count": 28,
     "metadata": {},
     "output_type": "execute_result"
    },
    {
     "data": {
      "image/png": "[encoded data removed]",
      "text/plain": [
       "<Figure size 432x288 with 1 Axes>"
      ]
     },
     "metadata": {
      "needs_background": "light"
     },
     "output_type": "display_data"
    }
   ],
   "source": [
    "sns.distplot(data[\"citric acid\"]) #this is also not normaly distributed. This is the visual way of checking the normality."
   ]
  },
  {
   "cell_type": "markdown",
   "id": "229cb6b0",
   "metadata": {},
   "source": [
    "As per above graph, data is not normally distributed. we can also check the data distribution wheather data is normally distributed or not using shapiro wilk test.\n",
    "\n",
    "if p>=0.05 = data is normally distributed\n",
    "if p<0.05 = data is not normally distributed\n",
    "\n",
    "e.g: check below example, here p value is very less hence data is not normally distributed."
   ]
  },
  {
   "cell_type": "code",
   "execution_count": 32,
   "id": "de50e994",
   "metadata": {},
   "outputs": [
    {
     "data": {
      "text/plain": [
       "ShapiroResult(statistic=0.9743340611457825, pvalue=2.686806772838566e-16)"
      ]
     },
     "execution_count": 32,
     "metadata": {},
     "output_type": "execute_result"
    }
   ],
   "source": [
    "from scipy import stats\n",
    "\n",
    "stats.shapiro(data[\"volatile acidity\"])\n"
   ]
  },
  {
   "cell_type": "code",
   "execution_count": 43,
   "id": "bb135b16",
   "metadata": {},
   "outputs": [],
   "source": [
    "from numpy import random"
   ]
  },
  {
   "cell_type": "code",
   "execution_count": 35,
   "id": "41eaf421",
   "metadata": {},
   "outputs": [],
   "source": [
    "normally_dist_data= random.randn(1100)"
   ]
  },
  {
   "cell_type": "markdown",
   "id": "5cd90a31",
   "metadata": {},
   "source": [
    "randn is used to generated normally distributed data which can be imported from random and random can be import from np as shown above"
   ]
  },
  {
   "cell_type": "code",
   "execution_count": 36,
   "id": "4bdbc4b5",
   "metadata": {},
   "outputs": [
    {
     "data": {
      "text/plain": [
       "array([ 0.1529336 , -0.51036923, -0.46408817, ..., -0.31974668,\n",
       "        0.03320835,  0.1298736 ])"
      ]
     },
     "execution_count": 36,
     "metadata": {},
     "output_type": "execute_result"
    }
   ],
   "source": [
    "normally_dist_data"
   ]
  },
  {
   "cell_type": "markdown",
   "id": "aec1ccd4",
   "metadata": {},
   "source": [
    "Now prooving the same that this is normally distributed data"
   ]
  },
  {
   "cell_type": "code",
   "execution_count": 37,
   "id": "3fadc5a5",
   "metadata": {},
   "outputs": [
    {
     "name": "stderr",
     "output_type": "stream",
     "text": [
      "/Users/yogendrasingh/opt/anaconda3/lib/python3.9/site-packages/seaborn/distributions.py:2619: FutureWarning: `distplot` is a deprecated function and will be removed in a future version. Please adapt your code to use either `displot` (a figure-level function with similar flexibility) or `histplot` (an axes-level function for histograms).\n",
      "  warnings.warn(msg, FutureWarning)\n"
     ]
    },
    {
     "data": {
      "text/plain": [
       "<AxesSubplot:ylabel='Density'>"
      ]
     },
     "execution_count": 37,
     "metadata": {},
     "output_type": "execute_result"
    },
    {
     "data": {
      "image/png": "[encoded data removed]",
      "text/plain": [
       "<Figure size 432x288 with 1 Axes>"
      ]
     },
     "metadata": {
      "needs_background": "light"
     },
     "output_type": "display_data"
    }
   ],
   "source": [
    "sns.distplot(normally_dist_data)"
   ]
  },
  {
   "cell_type": "code",
   "execution_count": 38,
   "id": "ac3fd1c9",
   "metadata": {},
   "outputs": [
    {
     "data": {
      "text/plain": [
       "ShapiroResult(statistic=0.9986921548843384, pvalue=0.603661835193634)"
      ]
     },
     "execution_count": 38,
     "metadata": {},
     "output_type": "execute_result"
    }
   ],
   "source": [
    "stats.shapiro(normally_dist_data)"
   ]
  },
  {
   "cell_type": "markdown",
   "id": "6644b4f8",
   "metadata": {},
   "source": [
    "as pvalue is greater than 0.05 hence this is normally distributed data as per shapiro wilk rule and also shown above graph that is normally distributed data."
   ]
  },
  {
   "cell_type": "markdown",
   "id": "0f811b53",
   "metadata": {},
   "source": [
    "# Normal test "
   ]
  },
  {
   "cell_type": "markdown",
   "id": "5b99b044",
   "metadata": {},
   "source": [
    "Normal test is also used to check if data is normally distributed or not."
   ]
  },
  {
   "cell_type": "code",
   "execution_count": 39,
   "id": "a54378cd",
   "metadata": {},
   "outputs": [
    {
     "data": {
      "text/plain": [
       "NormaltestResult(statistic=143.4193435598286, pvalue=7.192589039756692e-32)"
      ]
     },
     "execution_count": 39,
     "metadata": {},
     "output_type": "execute_result"
    }
   ],
   "source": [
    "from scipy import stats\n",
    "\n",
    "stats.normaltest(data[\"volatile acidity\"])"
   ]
  },
  {
   "cell_type": "markdown",
   "id": "d1816ae9",
   "metadata": {},
   "source": [
    "As the pvalue is very less hence data is not normally distributed"
   ]
  },
  {
   "cell_type": "markdown",
   "id": "c3bd651a",
   "metadata": {},
   "source": [
    "# Ztest"
   ]
  },
  {
   "cell_type": "code",
   "execution_count": 40,
   "id": "b97fa751",
   "metadata": {},
   "outputs": [],
   "source": [
    "sample_mean_iq=110\n",
    "alpha=0.05\n",
    "#ci=95%"
   ]
  },
  {
   "cell_type": "code",
   "execution_count": 49,
   "id": "6cd0416c",
   "metadata": {},
   "outputs": [],
   "source": [
    "mean_std_dev=15\n",
    "mean_population=100\n",
    "\n",
    "from numpy import random\n",
    "\n",
    "data=mean_std_dev*random.randn(50)+sample_mean_iq\n"
   ]
  },
  {
   "cell_type": "code",
   "execution_count": 50,
   "id": "1fdf0c42",
   "metadata": {},
   "outputs": [
    {
     "data": {
      "text/plain": [
       "110.75595302407704"
      ]
     },
     "execution_count": 50,
     "metadata": {},
     "output_type": "execute_result"
    }
   ],
   "source": [
    "np.mean(data)"
   ]
  },
  {
   "cell_type": "code",
   "execution_count": 51,
   "id": "0930e38c",
   "metadata": {},
   "outputs": [
    {
     "data": {
      "text/plain": [
       "16.313434491896846"
      ]
     },
     "execution_count": 51,
     "metadata": {},
     "output_type": "execute_result"
    }
   ],
   "source": [
    "np.std(data)"
   ]
  },
  {
   "cell_type": "code",
   "execution_count": 52,
   "id": "48276fe6",
   "metadata": {},
   "outputs": [],
   "source": [
    "null_hyphothesis_value=100"
   ]
  },
  {
   "cell_type": "code",
   "execution_count": 53,
   "id": "9490b060",
   "metadata": {},
   "outputs": [
    {
     "data": {
      "text/plain": [
       "(4.6153169773010045, 1.962479008222599e-06)"
      ]
     },
     "execution_count": 53,
     "metadata": {},
     "output_type": "execute_result"
    }
   ],
   "source": [
    "from statsmodels.stats.weightstats import ztest\n",
    "ztest(data,value=null_hyphothesis_value,alternative='larger')"
   ]
  },
  {
   "cell_type": "markdown",
   "id": "1b8b8b50",
   "metadata": {},
   "source": [
    "as p values is very less hence we are going to reject null hypothisis"
   ]
  },
  {
   "cell_type": "code",
   "execution_count": null,
   "id": "564960ab",
   "metadata": {},
   "outputs": [],
   "source": []
  }
 ],
 "metadata": {
  "kernelspec": {
   "display_name": "Python 3 (ipykernel)",
   "language": "python",
   "name": "python3"
  },
  "language_info": {
   "codemirror_mode": {
    "name": "ipython",
    "version": 3
   },
   "file_extension": ".py",
   "mimetype": "text/x-python",
   "name": "python",
   "nbconvert_exporter": "python",
   "pygments_lexer": "ipython3",
   "version": "3.9.12"
  }
 },
 "nbformat": 4,
 "nbformat_minor": 5
}

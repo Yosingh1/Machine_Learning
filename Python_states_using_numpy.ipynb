{
 "cells": [
  {
   "cell_type": "code",
   "execution_count": 1,
   "id": "55111ee7",
   "metadata": {},
   "outputs": [],
   "source": [
    "import numpy as np\n",
    "\n",
    "from statistics import mode"
   ]
  },
  {
   "cell_type": "code",
   "execution_count": 4,
   "id": "6e603162",
   "metadata": {},
   "outputs": [],
   "source": [
    "population_data= np.random.randint(10,20,50) #range 10-20 and generate 50 random numbers"
   ]
  },
  {
   "cell_type": "code",
   "execution_count": 5,
   "id": "782fd89a",
   "metadata": {},
   "outputs": [
    {
     "data": {
      "text/plain": [
       "array([16, 17, 16, 12, 16, 14, 12, 10, 15, 16, 18, 15, 14, 19, 17, 14, 16,\n",
       "       14, 12, 16, 18, 16, 18, 12, 11, 15, 14, 16, 11, 13, 17, 15, 10, 14,\n",
       "       11, 11, 19, 17, 17, 18, 10, 10, 13, 19, 19, 18, 18, 14, 13, 13])"
      ]
     },
     "execution_count": 5,
     "metadata": {},
     "output_type": "execute_result"
    }
   ],
   "source": [
    "population_data"
   ]
  },
  {
   "cell_type": "code",
   "execution_count": 6,
   "id": "e27c4271",
   "metadata": {},
   "outputs": [
    {
     "data": {
      "text/plain": [
       "14.78"
      ]
     },
     "execution_count": 6,
     "metadata": {},
     "output_type": "execute_result"
    }
   ],
   "source": [
    "mean= np.mean(population_data)\n",
    "mean"
   ]
  },
  {
   "cell_type": "code",
   "execution_count": 7,
   "id": "e2655e8c",
   "metadata": {},
   "outputs": [
    {
     "data": {
      "text/plain": [
       "15.0"
      ]
     },
     "execution_count": 7,
     "metadata": {},
     "output_type": "execute_result"
    }
   ],
   "source": [
    "median= np.median(population_data)\n",
    "median"
   ]
  },
  {
   "cell_type": "code",
   "execution_count": 8,
   "id": "84ec3d02",
   "metadata": {},
   "outputs": [
    {
     "data": {
      "text/plain": [
       "16"
      ]
     },
     "execution_count": 8,
     "metadata": {},
     "output_type": "execute_result"
    }
   ],
   "source": [
    "mode_= mode(population_data) #mode is not available in numpy, so imprting from statistics\n",
    "mode_ "
   ]
  },
  {
   "cell_type": "code",
   "execution_count": 19,
   "id": "c36586b7",
   "metadata": {},
   "outputs": [
    {
     "name": "stdout",
     "output_type": "stream",
     "text": [
      "Mean of population data: 14.78\n",
      "Median of population data: 15.0\n",
      "Mode of population data: 16\n"
     ]
    }
   ],
   "source": [
    "print(f\"Mean of population data: {np.mean(population_data)}\")\n",
    "print(f\"Median of population data: {np.median(population_data)}\")\n",
    "print(f\"Mode of population data: {mode(population_data)}\")"
   ]
  },
  {
   "cell_type": "code",
   "execution_count": 20,
   "id": "212b8fbf",
   "metadata": {},
   "outputs": [
    {
     "data": {
      "text/plain": [
       "17"
      ]
     },
     "execution_count": 20,
     "metadata": {},
     "output_type": "execute_result"
    }
   ],
   "source": [
    "#generate the sample\n",
    "\n",
    "sample= np.random.choice(population_data)\n",
    "sample"
   ]
  },
  {
   "cell_type": "code",
   "execution_count": 21,
   "id": "9d63b19e",
   "metadata": {},
   "outputs": [
    {
     "data": {
      "text/plain": [
       "array([19, 17, 14, 15, 12, 14, 10, 14, 18, 15, 16, 18, 11, 16, 18, 11, 16,\n",
       "       16, 15, 16])"
      ]
     },
     "execution_count": 21,
     "metadata": {},
     "output_type": "execute_result"
    }
   ],
   "source": [
    "#generate 20 random sample from population\n",
    "sample= np.random.choice(population_data,20)\n",
    "sample"
   ]
  },
  {
   "cell_type": "code",
   "execution_count": 22,
   "id": "9df99fa4",
   "metadata": {},
   "outputs": [
    {
     "name": "stdout",
     "output_type": "stream",
     "text": [
      "Mean of Sample data: 15.05\n",
      "Median of Sample data: 15.5\n",
      "Mode of Sample data: 16\n"
     ]
    }
   ],
   "source": [
    "print(f\"Mean of Sample data: {np.mean(sample)}\")\n",
    "print(f\"Median of Sample data: {np.median(sample)}\")\n",
    "print(f\"Mode of Sample data: {mode(sample)}\")"
   ]
  },
  {
   "cell_type": "code",
   "execution_count": 23,
   "id": "6656302b",
   "metadata": {},
   "outputs": [
    {
     "name": "stdout",
     "output_type": "stream",
     "text": [
      "[11 12 14 12 19 18 18 13 16 19 18 14 11 16 18 16 10 19 14 19]\n",
      "[13 14 18 16 16 10 18 14 18 15 18 17 11 10 16 13 13 16 17 17]\n",
      "[10 13 14 17 10 18 17 12 13 12 17 15 11 16 18 11 19 11 12 11]\n",
      "[17 18 16 17 10 12 13 18 12 18 13 18 13 12 13 14 14 16 14 17]\n"
     ]
    }
   ],
   "source": [
    "sample1= np.random.choice(population_data,20)\n",
    "sample2= np.random.choice(population_data,20)\n",
    "sample3= np.random.choice(population_data,20)\n",
    "sample4= np.random.choice(population_data,20)\n",
    "print(sample1)\n",
    "print(sample2)\n",
    "print(sample3)\n",
    "print(sample4)"
   ]
  },
  {
   "cell_type": "code",
   "execution_count": 24,
   "id": "d8e39c71",
   "metadata": {},
   "outputs": [
    {
     "name": "stdout",
     "output_type": "stream",
     "text": [
      "[15.35, 15.0, 13.85, 14.75]\n"
     ]
    }
   ],
   "source": [
    "lst_of_mean_of_sample= []\n",
    "all_sample=[sample1,sample2,sample3,sample4]\n",
    "\n",
    "for i in all_sample:\n",
    "    mean=np.mean(i)\n",
    "    lst_of_mean_of_sample.append(mean)\n",
    "print(lst_of_mean_of_sample)"
   ]
  },
  {
   "cell_type": "code",
   "execution_count": null,
   "id": "45dd4c9a",
   "metadata": {},
   "outputs": [],
   "source": []
  }
 ],
 "metadata": {
  "kernelspec": {
   "display_name": "Python 3 (ipykernel)",
   "language": "python",
   "name": "python3"
  },
  "language_info": {
   "codemirror_mode": {
    "name": "ipython",
    "version": 3
   },
   "file_extension": ".py",
   "mimetype": "text/x-python",
   "name": "python",
   "nbconvert_exporter": "python",
   "pygments_lexer": "ipython3",
   "version": "3.9.12"
  }
 },
 "nbformat": 4,
 "nbformat_minor": 5
}
